{
 "cells": [
  {
   "cell_type": "code",
   "execution_count": 1,
   "id": "e4ffb0a1-81c2-40c2-9072-87e3c4375dd6",
   "metadata": {},
   "outputs": [],
   "source": [
    "import cv2\n",
    "import numpy as np\n",
    "import pandas as pd\n",
    "import mediapipe as mp\n",
    "from utils import draw_landmarks, calculate_landmarks\n",
    "import time\n",
    "import itertools\n",
    "import copy\n",
    "import torch"
   ]
  },
  {
   "cell_type": "code",
   "execution_count": 2,
   "id": "1300fe6a",
   "metadata": {},
   "outputs": [],
   "source": [
    "mp_hands_sol = mp.solutions.hands\n",
    "mp_hands = mp_hands_sol.Hands(\n",
    "    max_num_hands=1,\n",
    "    min_detection_confidence=0.7,\n",
    "    min_tracking_confidence=0.5,\n",
    ")\n",
    "\n",
    "gesture_recognizer = torch.jit.load('gesture_recognizer.pt')"
   ]
  },
  {
   "cell_type": "code",
   "execution_count": 3,
   "id": "a718565c",
   "metadata": {},
   "outputs": [
    {
     "name": "stderr",
     "output_type": "stream",
     "text": [
      "INFO: Created TensorFlow Lite XNNPACK delegate for CPU.\n"
     ]
    }
   ],
   "source": [
    "def get_landmarks(image, keypoints):\n",
    "    landmark_list = []\n",
    "    if keypoints.multi_hand_landmarks is not None:\n",
    "        for hand_landmarks, handedness in zip(keypoints.multi_hand_landmarks, keypoints.multi_handedness):\n",
    "            landmark_list = calculate_landmarks(image, hand_landmarks)\n",
    "    return landmark_list"
   ]
  },
  {
   "cell_type": "code",
   "execution_count": 4,
   "id": "7c90dedb",
   "metadata": {},
   "outputs": [],
   "source": [
    "def preprocess_landmarks(landmark_list):\n",
    "    temp_landmark_list = copy.deepcopy(landmark_list)\n",
    "\n",
    "    base_x, base_y = 0, 0\n",
    "    for index, landmark_point in enumerate(temp_landmark_list):\n",
    "        if index == 0:\n",
    "            base_x, base_y, base_z = landmark_point[0], landmark_point[1], landmark_point[2]\n",
    "\n",
    "        temp_landmark_list[index][0] = temp_landmark_list[index][0] - base_x\n",
    "        temp_landmark_list[index][1] = temp_landmark_list[index][1] - base_y\n",
    "        temp_landmark_list[index][2] = temp_landmark_list[index][2] - base_z\n",
    "\n",
    "\n",
    "    temp_landmark_list = list(itertools.chain.from_iterable(temp_landmark_list))\n",
    "\n",
    "    max_value = max(list(map(abs, temp_landmark_list)))\n",
    "\n",
    "    def normalize_(n):\n",
    "        return n / max_value\n",
    "\n",
    "    temp_landmark_list = list(map(normalize_, temp_landmark_list))\n",
    "\n",
    "    return temp_landmark_list"
   ]
  },
  {
   "cell_type": "code",
   "execution_count": 5,
   "id": "291513a9",
   "metadata": {},
   "outputs": [],
   "source": [
    "poses = ['HOLD', 'GRAB', 'FIST', 'INDEX', 'PEACE', 'OK']"
   ]
  },
  {
   "cell_type": "code",
   "execution_count": 6,
   "id": "ba81abf1",
   "metadata": {},
   "outputs": [],
   "source": [
    "def classify_pose(landmarks):\n",
    "    if len(landmarks) == 0:\n",
    "        return 'none'\n",
    "    landmarks = preprocess_landmarks(landmarks)\n",
    "    landmarks.append(0)\n",
    "    landmarks = np.array(landmarks)\n",
    "    landmarks = torch.from_numpy(landmarks)\n",
    "    res = gesture_recognizer(landmarks).detach().numpy()\n",
    "    return poses[np.argmax(res)]"
   ]
  },
  {
   "cell_type": "code",
   "execution_count": 7,
   "id": "407de43b-be82-4272-a0a1-4458014d4c30",
   "metadata": {},
   "outputs": [],
   "source": [
    "def capture_pose(length=5):\n",
    "    cap = cv2.VideoCapture(0)\n",
    "    cap.set(cv2.CAP_PROP_FRAME_WIDTH, 800)\n",
    "    cap.set(cv2.CAP_PROP_FRAME_HEIGHT, 600)\n",
    "    current_pose = None\n",
    "    while True:\n",
    "        ret, image = cap.read()\n",
    "        hand_kpts = mp_hands.process(image)\n",
    "        landmarks = get_landmarks(image, hand_kpts)\n",
    "        image = draw_landmarks(image, landmarks)\n",
    "        current_pose = classify_pose(landmarks)\n",
    "        cv2.putText(image, f'Pose: {current_pose}', (30, 30), cv2.FONT_HERSHEY_SIMPLEX, 1, (255, 0, 0), 2, cv2.LINE_AA)\n",
    "        cv2.imshow('frame', image)\n",
    "        if not ret:\n",
    "            break\n",
    "        key = cv2.waitKey(25)\n",
    "        if key & 0xFF == ord('q'):\n",
    "            cv2.destroyAllWindows()\n",
    "            break\n",
    "    cap.release()\n",
    "    cv2.destroyAllWindows()"
   ]
  },
  {
   "cell_type": "code",
   "execution_count": 8,
   "id": "aa0c8a08-23a5-4bbd-ad55-18a42a04da1f",
   "metadata": {},
   "outputs": [],
   "source": [
    "capture_pose()"
   ]
  },
  {
   "cell_type": "code",
   "execution_count": null,
   "id": "abed2de5-62c6-4cb5-9edb-fe879e225160",
   "metadata": {},
   "outputs": [],
   "source": []
  }
 ],
 "metadata": {
  "kernelspec": {
   "display_name": "Python 3 (ipykernel)",
   "language": "python",
   "name": "python3"
  },
  "language_info": {
   "codemirror_mode": {
    "name": "ipython",
    "version": 3
   },
   "file_extension": ".py",
   "mimetype": "text/x-python",
   "name": "python",
   "nbconvert_exporter": "python",
   "pygments_lexer": "ipython3",
   "version": "3.10.4"
  },
  "vscode": {
   "interpreter": {
    "hash": "916dbcbb3f70747c44a77c7bcd40155683ae19c65e1c03b4aa3499c5328201f1"
   }
  }
 },
 "nbformat": 4,
 "nbformat_minor": 5
}
