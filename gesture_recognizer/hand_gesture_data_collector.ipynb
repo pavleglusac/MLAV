{
 "cells": [
  {
   "cell_type": "code",
   "execution_count": 11,
   "id": "e4ffb0a1-81c2-40c2-9072-87e3c4375dd6",
   "metadata": {},
   "outputs": [],
   "source": [
    "import cv2\n",
    "import numpy as np\n",
    "import pandas as pd\n",
    "import mediapipe as mp\n",
    "from utils import draw_landmarks, calculate_landmarks\n",
    "import time\n",
    "import itertools\n",
    "import copy"
   ]
  },
  {
   "cell_type": "code",
   "execution_count": 12,
   "id": "1300fe6a",
   "metadata": {},
   "outputs": [],
   "source": [
    "mp_hands_sol = mp.solutions.hands\n",
    "mp_hands = mp_hands_sol.Hands(\n",
    "    max_num_hands=1,\n",
    "    min_detection_confidence=0.7,\n",
    "    min_tracking_confidence=0.5,\n",
    ")"
   ]
  },
  {
   "cell_type": "code",
   "execution_count": 13,
   "id": "a718565c",
   "metadata": {},
   "outputs": [],
   "source": [
    "def get_landmarks(image, keypoints):\n",
    "    landmark_list = []\n",
    "    if keypoints.multi_hand_landmarks is not None:\n",
    "        for hand_landmarks, handedness in zip(keypoints.multi_hand_landmarks, keypoints.multi_handedness):\n",
    "            landmark_list = calculate_landmarks(image, hand_landmarks)\n",
    "    return landmark_list"
   ]
  },
  {
   "cell_type": "code",
   "execution_count": 14,
   "id": "7c90dedb",
   "metadata": {},
   "outputs": [],
   "source": [
    "def preprocess_landmarks(landmark_list):\n",
    "    temp_landmark_list = copy.deepcopy(landmark_list)\n",
    "\n",
    "    base_x, base_y = 0, 0\n",
    "    for index, landmark_point in enumerate(temp_landmark_list):\n",
    "        if index == 0:\n",
    "            base_x, base_y, base_z = landmark_point[0], landmark_point[1], landmark_point[2]\n",
    "\n",
    "        temp_landmark_list[index][0] = temp_landmark_list[index][0] - base_x\n",
    "        temp_landmark_list[index][1] = temp_landmark_list[index][1] - base_y\n",
    "        temp_landmark_list[index][2] = temp_landmark_list[index][2] - base_z\n",
    "\n",
    "\n",
    "    temp_landmark_list = list(itertools.chain.from_iterable(temp_landmark_list))\n",
    "\n",
    "    max_value = max(list(map(abs, temp_landmark_list)))\n",
    "\n",
    "    def normalize_(n):\n",
    "        return n / max_value\n",
    "\n",
    "    temp_landmark_list = list(map(normalize_, temp_landmark_list))\n",
    "\n",
    "    return temp_landmark_list"
   ]
  },
  {
   "cell_type": "code",
   "execution_count": 15,
   "id": "ba81abf1",
   "metadata": {},
   "outputs": [],
   "source": [
    "def create_datapoint(pose, landmarks, datapoints):\n",
    "    datapoint = {\n",
    "        'index': len(datapoints),\n",
    "        'pose': pose,\n",
    "        'keypoints': preprocess_landmarks(landmarks),\n",
    "    }\n",
    "    datapoints.append(datapoint)"
   ]
  },
  {
   "cell_type": "code",
   "execution_count": 16,
   "id": "291513a9",
   "metadata": {},
   "outputs": [],
   "source": [
    "poses = ['HOLD', 'GRAB', 'FIST', 'INDEX', 'PEACE', 'OK']\n",
    "data = []"
   ]
  },
  {
   "cell_type": "code",
   "execution_count": 17,
   "id": "407de43b-be82-4272-a0a1-4458014d4c30",
   "metadata": {},
   "outputs": [],
   "source": [
    "def capture_pose(length=5):\n",
    "    cap = cv2.VideoCapture(0)\n",
    "    cap.set(cv2.CAP_PROP_FRAME_WIDTH, 800)\n",
    "    cap.set(cv2.CAP_PROP_FRAME_HEIGHT, 600)\n",
    "    current_pose = None\n",
    "    while True:\n",
    "        ret, image = cap.read()\n",
    "        hand_kpts = mp_hands.process(image)\n",
    "        landmarks = get_landmarks(image, hand_kpts)\n",
    "        image = draw_landmarks(image, landmarks)\n",
    "        if current_pose is not None and len(landmarks) > 0:\n",
    "            create_datapoint(current_pose, landmarks, data)\n",
    "        cv2.putText(image, f'Capturing pose {current_pose}', (100, 100), cv2.FONT_HERSHEY_SIMPLEX, 2, (255, 0, 0), 1, cv2.LINE_AA)\n",
    "        cv2.imshow('frame', image)\n",
    "        if not ret:\n",
    "            break\n",
    "        key = cv2.waitKey(25)\n",
    "        if key & 0xFF == ord('q'):\n",
    "            cv2.destroyAllWindows()\n",
    "            break\n",
    "        elif key & 0xFF == ord('n'):\n",
    "            current_pose = None\n",
    "        else:\n",
    "            for pose in poses:\n",
    "                if key & 0xFF == ord(pose[0].lower()):\n",
    "                    current_pose = pose\n",
    "    cap.release()\n",
    "    cv2.destroyAllWindows()"
   ]
  },
  {
   "cell_type": "code",
   "execution_count": 18,
   "id": "7ed63562",
   "metadata": {},
   "outputs": [],
   "source": [
    "capture_pose()"
   ]
  },
  {
   "cell_type": "code",
   "execution_count": 19,
   "id": "4ebb0d4c",
   "metadata": {},
   "outputs": [
    {
     "data": {
      "text/html": [
       "<div>\n",
       "<style scoped>\n",
       "    .dataframe tbody tr th:only-of-type {\n",
       "        vertical-align: middle;\n",
       "    }\n",
       "\n",
       "    .dataframe tbody tr th {\n",
       "        vertical-align: top;\n",
       "    }\n",
       "\n",
       "    .dataframe thead th {\n",
       "        text-align: right;\n",
       "    }\n",
       "</style>\n",
       "<table border=\"1\" class=\"dataframe\">\n",
       "  <thead>\n",
       "    <tr style=\"text-align: right;\">\n",
       "      <th></th>\n",
       "      <th>index</th>\n",
       "      <th>pose</th>\n",
       "      <th>keypoints</th>\n",
       "    </tr>\n",
       "  </thead>\n",
       "  <tbody>\n",
       "    <tr>\n",
       "      <th>0</th>\n",
       "      <td>0</td>\n",
       "      <td>HOLD</td>\n",
       "      <td>[0.0, 0.0, 0.0, -0.2, -0.05652173913043478, -7...</td>\n",
       "    </tr>\n",
       "    <tr>\n",
       "      <th>1</th>\n",
       "      <td>1</td>\n",
       "      <td>HOLD</td>\n",
       "      <td>[0.0, 0.0, 0.0, -0.2, -0.05217391304347826, -7...</td>\n",
       "    </tr>\n",
       "    <tr>\n",
       "      <th>2</th>\n",
       "      <td>2</td>\n",
       "      <td>HOLD</td>\n",
       "      <td>[0.0, 0.0, 0.0, -0.20087336244541484, -0.04803...</td>\n",
       "    </tr>\n",
       "    <tr>\n",
       "      <th>3</th>\n",
       "      <td>3</td>\n",
       "      <td>HOLD</td>\n",
       "      <td>[0.0, 0.0, 0.0, -0.20087336244541484, -0.05240...</td>\n",
       "    </tr>\n",
       "    <tr>\n",
       "      <th>4</th>\n",
       "      <td>4</td>\n",
       "      <td>HOLD</td>\n",
       "      <td>[0.0, 0.0, 0.0, -0.2, -0.04782608695652174, -7...</td>\n",
       "    </tr>\n",
       "  </tbody>\n",
       "</table>\n",
       "</div>"
      ],
      "text/plain": [
       "   index  pose                                          keypoints\n",
       "0      0  HOLD  [0.0, 0.0, 0.0, -0.2, -0.05652173913043478, -7...\n",
       "1      1  HOLD  [0.0, 0.0, 0.0, -0.2, -0.05217391304347826, -7...\n",
       "2      2  HOLD  [0.0, 0.0, 0.0, -0.20087336244541484, -0.04803...\n",
       "3      3  HOLD  [0.0, 0.0, 0.0, -0.20087336244541484, -0.05240...\n",
       "4      4  HOLD  [0.0, 0.0, 0.0, -0.2, -0.04782608695652174, -7..."
      ]
     },
     "execution_count": 19,
     "metadata": {},
     "output_type": "execute_result"
    }
   ],
   "source": [
    "df = pd.DataFrame(data)\n",
    "df.head()"
   ]
  },
  {
   "cell_type": "code",
   "execution_count": 20,
   "id": "a7ad2f54",
   "metadata": {},
   "outputs": [],
   "source": [
    "df.to_csv('poses_left.csv')"
   ]
  }
 ],
 "metadata": {
  "kernelspec": {
   "display_name": "Python 3.10.4 64-bit",
   "language": "python",
   "name": "python3"
  },
  "language_info": {
   "codemirror_mode": {
    "name": "ipython",
    "version": 3
   },
   "file_extension": ".py",
   "mimetype": "text/x-python",
   "name": "python",
   "nbconvert_exporter": "python",
   "pygments_lexer": "ipython3",
   "version": "3.10.4"
  },
  "vscode": {
   "interpreter": {
    "hash": "916dbcbb3f70747c44a77c7bcd40155683ae19c65e1c03b4aa3499c5328201f1"
   }
  }
 },
 "nbformat": 4,
 "nbformat_minor": 5
}
